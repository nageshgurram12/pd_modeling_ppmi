{
 "cells": [
  {
   "cell_type": "code",
   "execution_count": 1,
   "metadata": {},
   "outputs": [],
   "source": [
    "import pandas as pd"
   ]
  },
  {
   "cell_type": "code",
   "execution_count": 2,
   "metadata": {},
   "outputs": [],
   "source": [
    "updrs3_file = './data/MDS_UPDRS_Part_III.csv'\n",
    "updrs3_df = pd.read_csv(updrs3_file)"
   ]
  },
  {
   "cell_type": "code",
   "execution_count": 3,
   "metadata": {
    "scrolled": true
   },
   "outputs": [
    {
     "data": {
      "text/html": [
       "<div>\n",
       "<style scoped>\n",
       "    .dataframe tbody tr th:only-of-type {\n",
       "        vertical-align: middle;\n",
       "    }\n",
       "\n",
       "    .dataframe tbody tr th {\n",
       "        vertical-align: top;\n",
       "    }\n",
       "\n",
       "    .dataframe thead th {\n",
       "        text-align: right;\n",
       "    }\n",
       "</style>\n",
       "<table border=\"1\" class=\"dataframe\">\n",
       "  <thead>\n",
       "    <tr style=\"text-align: right;\">\n",
       "      <th></th>\n",
       "      <th>REC_ID</th>\n",
       "      <th>PATNO</th>\n",
       "      <th>NP3SPCH</th>\n",
       "      <th>NP3FACXP</th>\n",
       "      <th>NP3RIGN</th>\n",
       "      <th>NP3RIGRU</th>\n",
       "      <th>NP3RIGLU</th>\n",
       "      <th>PN3RIGRL</th>\n",
       "      <th>NP3RIGLL</th>\n",
       "      <th>NP3FTAPR</th>\n",
       "      <th>...</th>\n",
       "      <th>NP3RTARL</th>\n",
       "      <th>NP3RTALL</th>\n",
       "      <th>NP3RTALJ</th>\n",
       "      <th>NP3RTCON</th>\n",
       "      <th>DYSKPRES</th>\n",
       "      <th>DYSKIRAT</th>\n",
       "      <th>NHY</th>\n",
       "      <th>ANNUAL_TIME_BTW_DOSE_NUPDRS</th>\n",
       "      <th>ON_OFF_DOSE</th>\n",
       "      <th>PD_MED_USE</th>\n",
       "    </tr>\n",
       "  </thead>\n",
       "  <tbody>\n",
       "    <tr>\n",
       "      <th>count</th>\n",
       "      <td>1.484000e+04</td>\n",
       "      <td>14840.000000</td>\n",
       "      <td>14838.000000</td>\n",
       "      <td>14837.000000</td>\n",
       "      <td>14837.000000</td>\n",
       "      <td>14837.000000</td>\n",
       "      <td>14837.000000</td>\n",
       "      <td>14835.000000</td>\n",
       "      <td>14834.000000</td>\n",
       "      <td>14836.000000</td>\n",
       "      <td>...</td>\n",
       "      <td>14836.000000</td>\n",
       "      <td>14836.000000</td>\n",
       "      <td>14835.000000</td>\n",
       "      <td>14834.000000</td>\n",
       "      <td>14832.000000</td>\n",
       "      <td>927.000000</td>\n",
       "      <td>14830.000000</td>\n",
       "      <td>4581.000000</td>\n",
       "      <td>7737.000000</td>\n",
       "      <td>9753.000000</td>\n",
       "    </tr>\n",
       "    <tr>\n",
       "      <th>mean</th>\n",
       "      <td>5.396859e+08</td>\n",
       "      <td>22571.170620</td>\n",
       "      <td>0.478501</td>\n",
       "      <td>0.896812</td>\n",
       "      <td>0.614343</td>\n",
       "      <td>0.835344</td>\n",
       "      <td>0.705803</td>\n",
       "      <td>0.537782</td>\n",
       "      <td>0.511056</td>\n",
       "      <td>0.844028</td>\n",
       "      <td>...</td>\n",
       "      <td>0.117822</td>\n",
       "      <td>0.112429</td>\n",
       "      <td>0.056488</td>\n",
       "      <td>0.854456</td>\n",
       "      <td>0.051241</td>\n",
       "      <td>0.059331</td>\n",
       "      <td>1.293392</td>\n",
       "      <td>7.107670</td>\n",
       "      <td>1.360476</td>\n",
       "      <td>2.464370</td>\n",
       "    </tr>\n",
       "    <tr>\n",
       "      <th>std</th>\n",
       "      <td>1.340951e+08</td>\n",
       "      <td>24251.066491</td>\n",
       "      <td>0.658448</td>\n",
       "      <td>0.857658</td>\n",
       "      <td>0.832220</td>\n",
       "      <td>0.879837</td>\n",
       "      <td>0.860710</td>\n",
       "      <td>0.807541</td>\n",
       "      <td>0.807614</td>\n",
       "      <td>0.914663</td>\n",
       "      <td>...</td>\n",
       "      <td>0.421854</td>\n",
       "      <td>0.412026</td>\n",
       "      <td>0.278028</td>\n",
       "      <td>1.217160</td>\n",
       "      <td>0.220495</td>\n",
       "      <td>0.236371</td>\n",
       "      <td>0.972217</td>\n",
       "      <td>7.982632</td>\n",
       "      <td>0.480170</td>\n",
       "      <td>2.376349</td>\n",
       "    </tr>\n",
       "    <tr>\n",
       "      <th>min</th>\n",
       "      <td>2.309658e+08</td>\n",
       "      <td>3000.000000</td>\n",
       "      <td>0.000000</td>\n",
       "      <td>0.000000</td>\n",
       "      <td>0.000000</td>\n",
       "      <td>0.000000</td>\n",
       "      <td>0.000000</td>\n",
       "      <td>0.000000</td>\n",
       "      <td>0.000000</td>\n",
       "      <td>0.000000</td>\n",
       "      <td>...</td>\n",
       "      <td>0.000000</td>\n",
       "      <td>0.000000</td>\n",
       "      <td>0.000000</td>\n",
       "      <td>0.000000</td>\n",
       "      <td>0.000000</td>\n",
       "      <td>0.000000</td>\n",
       "      <td>0.000000</td>\n",
       "      <td>0.000000</td>\n",
       "      <td>1.000000</td>\n",
       "      <td>0.000000</td>\n",
       "    </tr>\n",
       "    <tr>\n",
       "      <th>25%</th>\n",
       "      <td>4.193739e+08</td>\n",
       "      <td>3434.000000</td>\n",
       "      <td>0.000000</td>\n",
       "      <td>0.000000</td>\n",
       "      <td>0.000000</td>\n",
       "      <td>0.000000</td>\n",
       "      <td>0.000000</td>\n",
       "      <td>0.000000</td>\n",
       "      <td>0.000000</td>\n",
       "      <td>0.000000</td>\n",
       "      <td>...</td>\n",
       "      <td>0.000000</td>\n",
       "      <td>0.000000</td>\n",
       "      <td>0.000000</td>\n",
       "      <td>0.000000</td>\n",
       "      <td>0.000000</td>\n",
       "      <td>0.000000</td>\n",
       "      <td>0.000000</td>\n",
       "      <td>1.250000</td>\n",
       "      <td>1.000000</td>\n",
       "      <td>0.000000</td>\n",
       "    </tr>\n",
       "    <tr>\n",
       "      <th>50%</th>\n",
       "      <td>5.470369e+08</td>\n",
       "      <td>4005.000000</td>\n",
       "      <td>0.000000</td>\n",
       "      <td>1.000000</td>\n",
       "      <td>0.000000</td>\n",
       "      <td>1.000000</td>\n",
       "      <td>0.000000</td>\n",
       "      <td>0.000000</td>\n",
       "      <td>0.000000</td>\n",
       "      <td>1.000000</td>\n",
       "      <td>...</td>\n",
       "      <td>0.000000</td>\n",
       "      <td>0.000000</td>\n",
       "      <td>0.000000</td>\n",
       "      <td>0.000000</td>\n",
       "      <td>0.000000</td>\n",
       "      <td>0.000000</td>\n",
       "      <td>2.000000</td>\n",
       "      <td>3.133300</td>\n",
       "      <td>1.000000</td>\n",
       "      <td>1.000000</td>\n",
       "    </tr>\n",
       "    <tr>\n",
       "      <th>75%</th>\n",
       "      <td>6.582263e+08</td>\n",
       "      <td>42164.000000</td>\n",
       "      <td>1.000000</td>\n",
       "      <td>1.000000</td>\n",
       "      <td>1.000000</td>\n",
       "      <td>2.000000</td>\n",
       "      <td>1.000000</td>\n",
       "      <td>1.000000</td>\n",
       "      <td>1.000000</td>\n",
       "      <td>1.000000</td>\n",
       "      <td>...</td>\n",
       "      <td>0.000000</td>\n",
       "      <td>0.000000</td>\n",
       "      <td>0.000000</td>\n",
       "      <td>1.000000</td>\n",
       "      <td>0.000000</td>\n",
       "      <td>0.000000</td>\n",
       "      <td>2.000000</td>\n",
       "      <td>12.666700</td>\n",
       "      <td>2.000000</td>\n",
       "      <td>4.000000</td>\n",
       "    </tr>\n",
       "    <tr>\n",
       "      <th>max</th>\n",
       "      <td>7.544579e+08</td>\n",
       "      <td>92834.000000</td>\n",
       "      <td>4.000000</td>\n",
       "      <td>4.000000</td>\n",
       "      <td>4.000000</td>\n",
       "      <td>4.000000</td>\n",
       "      <td>4.000000</td>\n",
       "      <td>4.000000</td>\n",
       "      <td>4.000000</td>\n",
       "      <td>4.000000</td>\n",
       "      <td>...</td>\n",
       "      <td>4.000000</td>\n",
       "      <td>4.000000</td>\n",
       "      <td>3.000000</td>\n",
       "      <td>4.000000</td>\n",
       "      <td>1.000000</td>\n",
       "      <td>1.000000</td>\n",
       "      <td>5.000000</td>\n",
       "      <td>99.000000</td>\n",
       "      <td>2.000000</td>\n",
       "      <td>7.000000</td>\n",
       "    </tr>\n",
       "  </tbody>\n",
       "</table>\n",
       "<p>8 rows × 41 columns</p>\n",
       "</div>"
      ],
      "text/plain": [
       "             REC_ID         PATNO       NP3SPCH      NP3FACXP       NP3RIGN  \\\n",
       "count  1.484000e+04  14840.000000  14838.000000  14837.000000  14837.000000   \n",
       "mean   5.396859e+08  22571.170620      0.478501      0.896812      0.614343   \n",
       "std    1.340951e+08  24251.066491      0.658448      0.857658      0.832220   \n",
       "min    2.309658e+08   3000.000000      0.000000      0.000000      0.000000   \n",
       "25%    4.193739e+08   3434.000000      0.000000      0.000000      0.000000   \n",
       "50%    5.470369e+08   4005.000000      0.000000      1.000000      0.000000   \n",
       "75%    6.582263e+08  42164.000000      1.000000      1.000000      1.000000   \n",
       "max    7.544579e+08  92834.000000      4.000000      4.000000      4.000000   \n",
       "\n",
       "           NP3RIGRU      NP3RIGLU      PN3RIGRL      NP3RIGLL      NP3FTAPR  \\\n",
       "count  14837.000000  14837.000000  14835.000000  14834.000000  14836.000000   \n",
       "mean       0.835344      0.705803      0.537782      0.511056      0.844028   \n",
       "std        0.879837      0.860710      0.807541      0.807614      0.914663   \n",
       "min        0.000000      0.000000      0.000000      0.000000      0.000000   \n",
       "25%        0.000000      0.000000      0.000000      0.000000      0.000000   \n",
       "50%        1.000000      0.000000      0.000000      0.000000      1.000000   \n",
       "75%        2.000000      1.000000      1.000000      1.000000      1.000000   \n",
       "max        4.000000      4.000000      4.000000      4.000000      4.000000   \n",
       "\n",
       "       ...      NP3RTARL      NP3RTALL      NP3RTALJ      NP3RTCON  \\\n",
       "count  ...  14836.000000  14836.000000  14835.000000  14834.000000   \n",
       "mean   ...      0.117822      0.112429      0.056488      0.854456   \n",
       "std    ...      0.421854      0.412026      0.278028      1.217160   \n",
       "min    ...      0.000000      0.000000      0.000000      0.000000   \n",
       "25%    ...      0.000000      0.000000      0.000000      0.000000   \n",
       "50%    ...      0.000000      0.000000      0.000000      0.000000   \n",
       "75%    ...      0.000000      0.000000      0.000000      1.000000   \n",
       "max    ...      4.000000      4.000000      3.000000      4.000000   \n",
       "\n",
       "           DYSKPRES    DYSKIRAT           NHY  ANNUAL_TIME_BTW_DOSE_NUPDRS  \\\n",
       "count  14832.000000  927.000000  14830.000000                  4581.000000   \n",
       "mean       0.051241    0.059331      1.293392                     7.107670   \n",
       "std        0.220495    0.236371      0.972217                     7.982632   \n",
       "min        0.000000    0.000000      0.000000                     0.000000   \n",
       "25%        0.000000    0.000000      0.000000                     1.250000   \n",
       "50%        0.000000    0.000000      2.000000                     3.133300   \n",
       "75%        0.000000    0.000000      2.000000                    12.666700   \n",
       "max        1.000000    1.000000      5.000000                    99.000000   \n",
       "\n",
       "       ON_OFF_DOSE   PD_MED_USE  \n",
       "count  7737.000000  9753.000000  \n",
       "mean      1.360476     2.464370  \n",
       "std       0.480170     2.376349  \n",
       "min       1.000000     0.000000  \n",
       "25%       1.000000     0.000000  \n",
       "50%       1.000000     1.000000  \n",
       "75%       2.000000     4.000000  \n",
       "max       2.000000     7.000000  \n",
       "\n",
       "[8 rows x 41 columns]"
      ]
     },
     "execution_count": 3,
     "metadata": {},
     "output_type": "execute_result"
    }
   ],
   "source": [
    "updrs3_df.describe()"
   ]
  },
  {
   "cell_type": "markdown",
   "metadata": {},
   "source": [
    "<h4> Number of patients in UPDRS 3 file </h4>"
   ]
  },
  {
   "cell_type": "code",
   "execution_count": 4,
   "metadata": {},
   "outputs": [
    {
     "data": {
      "text/plain": [
       "2114"
      ]
     },
     "execution_count": 4,
     "metadata": {},
     "output_type": "execute_result"
    }
   ],
   "source": [
    "len(updrs3_df.PATNO.unique())"
   ]
  },
  {
   "cell_type": "markdown",
   "metadata": {},
   "source": [
    "<h4> Check for any null columns </h4>"
   ]
  },
  {
   "cell_type": "code",
   "execution_count": 5,
   "metadata": {},
   "outputs": [
    {
     "data": {
      "text/plain": [
       "Index([], dtype='object')"
      ]
     },
     "execution_count": 5,
     "metadata": {},
     "output_type": "execute_result"
    }
   ],
   "source": [
    "updrs3_df.columns[updrs3_df.isnull().all()]"
   ]
  },
  {
   "cell_type": "markdown",
   "metadata": {},
   "source": [
    "#### Get enrolled patients status:"
   ]
  },
  {
   "cell_type": "code",
   "execution_count": 6,
   "metadata": {},
   "outputs": [],
   "source": [
    "all_patients = pd.read_csv('./data/Patient_Status.csv')\n",
    "#all_patients = all_patients.loc[all_patients['ENROLL_CAT'].notnull()])\n",
    "all_patients = all_patients.loc[all_patients['ENROLL_CAT'].isin(['PD', \"GENPD\"]), ('PATNO', 'ENROLL_CAT')]"
   ]
  },
  {
   "cell_type": "markdown",
   "metadata": {},
   "source": [
    "#### Get count of patients based on cohorts in UPDRS3 :"
   ]
  },
  {
   "cell_type": "code",
   "execution_count": 7,
   "metadata": {},
   "outputs": [
    {
     "data": {
      "text/html": [
       "<div>\n",
       "<style scoped>\n",
       "    .dataframe tbody tr th:only-of-type {\n",
       "        vertical-align: middle;\n",
       "    }\n",
       "\n",
       "    .dataframe tbody tr th {\n",
       "        vertical-align: top;\n",
       "    }\n",
       "\n",
       "    .dataframe thead th {\n",
       "        text-align: right;\n",
       "    }\n",
       "</style>\n",
       "<table border=\"1\" class=\"dataframe\">\n",
       "  <thead>\n",
       "    <tr style=\"text-align: right;\">\n",
       "      <th></th>\n",
       "      <th>PATNO</th>\n",
       "    </tr>\n",
       "    <tr>\n",
       "      <th>ENROLL_CAT</th>\n",
       "      <th></th>\n",
       "    </tr>\n",
       "  </thead>\n",
       "  <tbody>\n",
       "    <tr>\n",
       "      <th>GENPD</th>\n",
       "      <td>2359</td>\n",
       "    </tr>\n",
       "    <tr>\n",
       "      <th>PD</th>\n",
       "      <td>6950</td>\n",
       "    </tr>\n",
       "  </tbody>\n",
       "</table>\n",
       "</div>"
      ],
      "text/plain": [
       "            PATNO\n",
       "ENROLL_CAT       \n",
       "GENPD        2359\n",
       "PD           6950"
      ]
     },
     "execution_count": 7,
     "metadata": {},
     "output_type": "execute_result"
    }
   ],
   "source": [
    "updrs3_df = updrs3_df.merge(all_patients, how='outer', on=['PATNO'])\n",
    "updrs3_df.groupby('ENROLL_CAT').count()[['PATNO']]"
   ]
  },
  {
   "cell_type": "code",
   "execution_count": 8,
   "metadata": {},
   "outputs": [],
   "source": [
    "updrs2_file = './data/MDS_UPDRS_Part_II__Patient_Questionnaire.csv'\n",
    "updrs2_df = pd.read_csv(updrs2_file)"
   ]
  },
  {
   "cell_type": "code",
   "execution_count": 9,
   "metadata": {},
   "outputs": [
    {
     "name": "stdout",
     "output_type": "stream",
     "text": [
      "        REC_ID F_STATUS  PATNO EVENT_ID  PAG_NAME   INFODT  NUPSOURC  NP2SPCH  \\\n",
      "346  303557801        V   3400      V04  NUPDRS2P  07/2011         1        1   \n",
      "\n",
      "     NP2SALV  NP2SWAL  ...  NP2HOBB  NP2TURN  NP2TRMR  NP2RISE  NP2WALK  \\\n",
      "346        2        1  ...      3.0      1.0      1.0      1.0      2.0   \n",
      "\n",
      "     NP2FREZ  ORIG_ENTRY            LAST_UPDATE  QUERY  SITE_APRV  \n",
      "346      1.0     07/2011  2011-07-05 09:47:47.0    NaN    07/2011  \n",
      "\n",
      "[1 rows x 24 columns]\n"
     ]
    }
   ],
   "source": [
    "print(updrs2_df.loc[(updrs2_df['PATNO'] == 3400) & (updrs2_df['EVENT_ID'] == 'V04')])"
   ]
  },
  {
   "cell_type": "code",
   "execution_count": 10,
   "metadata": {},
   "outputs": [
    {
     "data": {
      "text/plain": [
       "True"
      ]
     },
     "execution_count": 10,
     "metadata": {},
     "output_type": "execute_result"
    }
   ],
   "source": [
    "(updrs3_df.loc[(updrs3_df['PATNO'] == 34001) & (updrs3_df['EVENT_ID'] == 'V04')]).empty"
   ]
  },
  {
   "cell_type": "code",
   "execution_count": 117,
   "metadata": {},
   "outputs": [
    {
     "data": {
      "text/html": [
       "<div>\n",
       "<style scoped>\n",
       "    .dataframe tbody tr th:only-of-type {\n",
       "        vertical-align: middle;\n",
       "    }\n",
       "\n",
       "    .dataframe tbody tr th {\n",
       "        vertical-align: top;\n",
       "    }\n",
       "\n",
       "    .dataframe thead th {\n",
       "        text-align: right;\n",
       "    }\n",
       "</style>\n",
       "<table border=\"1\" class=\"dataframe\">\n",
       "  <thead>\n",
       "    <tr style=\"text-align: right;\">\n",
       "      <th></th>\n",
       "      <th>PATNO</th>\n",
       "      <th>EVENT_ID</th>\n",
       "      <th>NUPSOURC</th>\n",
       "      <th>NP2SPCH</th>\n",
       "      <th>NP2SALV</th>\n",
       "      <th>NP2SWAL</th>\n",
       "      <th>NP2EAT</th>\n",
       "      <th>NP2DRES</th>\n",
       "      <th>NP2HYGN</th>\n",
       "      <th>NP2HWRT</th>\n",
       "      <th>...</th>\n",
       "      <th>NHY</th>\n",
       "      <th>ANNUAL_TIME_BTW_DOSE_NUPDRS</th>\n",
       "      <th>ON_OFF_DOSE</th>\n",
       "      <th>PD_MED_USE</th>\n",
       "      <th>IS_TREATED</th>\n",
       "      <th>ENROLL_CAT</th>\n",
       "      <th>UPDRS_II</th>\n",
       "      <th>UPDRS_III</th>\n",
       "      <th>UPDRS_II_AND_III</th>\n",
       "      <th>TOTAL</th>\n",
       "    </tr>\n",
       "  </thead>\n",
       "  <tbody>\n",
       "  </tbody>\n",
       "</table>\n",
       "<p>0 rows × 63 columns</p>\n",
       "</div>"
      ],
      "text/plain": [
       "Empty DataFrame\n",
       "Columns: [PATNO, EVENT_ID, NUPSOURC, NP2SPCH, NP2SALV, NP2SWAL, NP2EAT, NP2DRES, NP2HYGN, NP2HWRT, NP2HOBB, NP2TURN, NP2TRMR, NP2RISE, NP2WALK, NP2FREZ, CMEDTM, EXAMTM, NP3SPCH, NP3FACXP, NP3RIGN, NP3RIGRU, NP3RIGLU, PN3RIGRL, NP3RIGLL, NP3FTAPR, NP3FTAPL, NP3HMOVR, NP3HMOVL, NP3PRSPR, NP3PRSPL, NP3TTAPR, NP3TTAPL, NP3LGAGR, NP3LGAGL, NP3RISNG, NP3GAIT, NP3FRZGT, NP3PSTBL, NP3POSTR, NP3BRADY, NP3PTRMR, NP3PTRML, NP3KTRMR, NP3KTRML, NP3RTARU, NP3RTALU, NP3RTARL, NP3RTALL, NP3RTALJ, NP3RTCON, DYSKPRES, DYSKIRAT, NHY, ANNUAL_TIME_BTW_DOSE_NUPDRS, ON_OFF_DOSE, PD_MED_USE, IS_TREATED, ENROLL_CAT, UPDRS_II, UPDRS_III, UPDRS_II_AND_III, TOTAL]\n",
       "Index: []\n",
       "\n",
       "[0 rows x 63 columns]"
      ]
     },
     "execution_count": 117,
     "metadata": {},
     "output_type": "execute_result"
    }
   ],
   "source": [
    "merged = pd.read_csv('./preprocessed/final_data.csv')\n",
    "merged.drop_duplicates(subset=[\"PATNO\", \"EVENT_ID\"], keep=\"first\", inplace=True)\n",
    "merged[merged.duplicated(subset=[\"PATNO\", \"EVENT_ID\"])]"
   ]
  },
  {
   "cell_type": "code",
   "execution_count": 12,
   "metadata": {},
   "outputs": [],
   "source": [
    "merged.replace({\n",
    "'EVENT_ID' : {\"BL\": 0, \"V01\": 1, \"V02\": 2, \"V03\": 3, \"V04\": 4, \"V05\": 5, \"V06\": 6, \"V07\": 7, \"V08\": 8,\n",
    "                     \"V09\": 9, \"V10\": 10, \"V11\": 11, \"V12\": 12, \"V13\": 13, \"V14\": 14, \"ST\": -1}\n",
    "}, inplace=True)"
   ]
  },
  {
   "cell_type": "code",
   "execution_count": 13,
   "metadata": {},
   "outputs": [
    {
     "data": {
      "text/html": [
       "<div>\n",
       "<style scoped>\n",
       "    .dataframe tbody tr th:only-of-type {\n",
       "        vertical-align: middle;\n",
       "    }\n",
       "\n",
       "    .dataframe tbody tr th {\n",
       "        vertical-align: top;\n",
       "    }\n",
       "\n",
       "    .dataframe thead th {\n",
       "        text-align: right;\n",
       "    }\n",
       "</style>\n",
       "<table border=\"1\" class=\"dataframe\">\n",
       "  <thead>\n",
       "    <tr style=\"text-align: right;\">\n",
       "      <th></th>\n",
       "      <th>PATNO</th>\n",
       "      <th>EVENT_ID</th>\n",
       "      <th>NUPSOURC</th>\n",
       "      <th>NP2SPCH</th>\n",
       "      <th>NP2SALV</th>\n",
       "      <th>NP2SWAL</th>\n",
       "      <th>NP2EAT</th>\n",
       "      <th>NP2DRES</th>\n",
       "      <th>NP2HYGN</th>\n",
       "      <th>NP2HWRT</th>\n",
       "      <th>...</th>\n",
       "      <th>NHY</th>\n",
       "      <th>ANNUAL_TIME_BTW_DOSE_NUPDRS</th>\n",
       "      <th>ON_OFF_DOSE</th>\n",
       "      <th>PD_MED_USE</th>\n",
       "      <th>IS_TREATED</th>\n",
       "      <th>ENROLL_CAT</th>\n",
       "      <th>UPDRS_II</th>\n",
       "      <th>UPDRS_III</th>\n",
       "      <th>UPDRS_II_AND_III</th>\n",
       "      <th>TOTAL</th>\n",
       "    </tr>\n",
       "  </thead>\n",
       "  <tbody>\n",
       "    <tr>\n",
       "      <th>590</th>\n",
       "      <td>3415</td>\n",
       "      <td>3</td>\n",
       "      <td>NaN</td>\n",
       "      <td>NaN</td>\n",
       "      <td>NaN</td>\n",
       "      <td>NaN</td>\n",
       "      <td>NaN</td>\n",
       "      <td>NaN</td>\n",
       "      <td>NaN</td>\n",
       "      <td>NaN</td>\n",
       "      <td>...</td>\n",
       "      <td>2.0</td>\n",
       "      <td>NaN</td>\n",
       "      <td>NaN</td>\n",
       "      <td>3.0</td>\n",
       "      <td>0.0</td>\n",
       "      <td>PD</td>\n",
       "      <td>0.0</td>\n",
       "      <td>27.0</td>\n",
       "      <td>27.0</td>\n",
       "      <td>27.0</td>\n",
       "    </tr>\n",
       "    <tr>\n",
       "      <th>1219</th>\n",
       "      <td>3305</td>\n",
       "      <td>10</td>\n",
       "      <td>NaN</td>\n",
       "      <td>NaN</td>\n",
       "      <td>NaN</td>\n",
       "      <td>NaN</td>\n",
       "      <td>NaN</td>\n",
       "      <td>NaN</td>\n",
       "      <td>NaN</td>\n",
       "      <td>NaN</td>\n",
       "      <td>...</td>\n",
       "      <td>2.0</td>\n",
       "      <td>NaN</td>\n",
       "      <td>NaN</td>\n",
       "      <td>3.0</td>\n",
       "      <td>1.0</td>\n",
       "      <td>PD</td>\n",
       "      <td>0.0</td>\n",
       "      <td>38.0</td>\n",
       "      <td>38.0</td>\n",
       "      <td>38.0</td>\n",
       "    </tr>\n",
       "    <tr>\n",
       "      <th>3907</th>\n",
       "      <td>4074</td>\n",
       "      <td>13</td>\n",
       "      <td>NaN</td>\n",
       "      <td>NaN</td>\n",
       "      <td>NaN</td>\n",
       "      <td>NaN</td>\n",
       "      <td>NaN</td>\n",
       "      <td>NaN</td>\n",
       "      <td>NaN</td>\n",
       "      <td>NaN</td>\n",
       "      <td>...</td>\n",
       "      <td>2.0</td>\n",
       "      <td>5.9167</td>\n",
       "      <td>2.0</td>\n",
       "      <td>1.0</td>\n",
       "      <td>1.0</td>\n",
       "      <td>PD</td>\n",
       "      <td>0.0</td>\n",
       "      <td>32.0</td>\n",
       "      <td>32.0</td>\n",
       "      <td>32.0</td>\n",
       "    </tr>\n",
       "    <tr>\n",
       "      <th>3997</th>\n",
       "      <td>3026</td>\n",
       "      <td>1</td>\n",
       "      <td>NaN</td>\n",
       "      <td>NaN</td>\n",
       "      <td>NaN</td>\n",
       "      <td>NaN</td>\n",
       "      <td>NaN</td>\n",
       "      <td>NaN</td>\n",
       "      <td>NaN</td>\n",
       "      <td>NaN</td>\n",
       "      <td>...</td>\n",
       "      <td>2.0</td>\n",
       "      <td>NaN</td>\n",
       "      <td>NaN</td>\n",
       "      <td>0.0</td>\n",
       "      <td>0.0</td>\n",
       "      <td>PD</td>\n",
       "      <td>0.0</td>\n",
       "      <td>18.0</td>\n",
       "      <td>18.0</td>\n",
       "      <td>18.0</td>\n",
       "    </tr>\n",
       "    <tr>\n",
       "      <th>4066</th>\n",
       "      <td>4073</td>\n",
       "      <td>13</td>\n",
       "      <td>NaN</td>\n",
       "      <td>NaN</td>\n",
       "      <td>NaN</td>\n",
       "      <td>NaN</td>\n",
       "      <td>NaN</td>\n",
       "      <td>NaN</td>\n",
       "      <td>NaN</td>\n",
       "      <td>NaN</td>\n",
       "      <td>...</td>\n",
       "      <td>2.0</td>\n",
       "      <td>0.7500</td>\n",
       "      <td>2.0</td>\n",
       "      <td>1.0</td>\n",
       "      <td>1.0</td>\n",
       "      <td>PD</td>\n",
       "      <td>0.0</td>\n",
       "      <td>20.0</td>\n",
       "      <td>20.0</td>\n",
       "      <td>20.0</td>\n",
       "    </tr>\n",
       "    <tr>\n",
       "      <th>4076</th>\n",
       "      <td>4076</td>\n",
       "      <td>13</td>\n",
       "      <td>NaN</td>\n",
       "      <td>NaN</td>\n",
       "      <td>NaN</td>\n",
       "      <td>NaN</td>\n",
       "      <td>NaN</td>\n",
       "      <td>NaN</td>\n",
       "      <td>NaN</td>\n",
       "      <td>NaN</td>\n",
       "      <td>...</td>\n",
       "      <td>2.0</td>\n",
       "      <td>0.6167</td>\n",
       "      <td>2.0</td>\n",
       "      <td>1.0</td>\n",
       "      <td>1.0</td>\n",
       "      <td>PD</td>\n",
       "      <td>0.0</td>\n",
       "      <td>28.0</td>\n",
       "      <td>28.0</td>\n",
       "      <td>28.0</td>\n",
       "    </tr>\n",
       "    <tr>\n",
       "      <th>4086</th>\n",
       "      <td>4077</td>\n",
       "      <td>13</td>\n",
       "      <td>NaN</td>\n",
       "      <td>NaN</td>\n",
       "      <td>NaN</td>\n",
       "      <td>NaN</td>\n",
       "      <td>NaN</td>\n",
       "      <td>NaN</td>\n",
       "      <td>NaN</td>\n",
       "      <td>NaN</td>\n",
       "      <td>...</td>\n",
       "      <td>2.0</td>\n",
       "      <td>16.4667</td>\n",
       "      <td>1.0</td>\n",
       "      <td>1.0</td>\n",
       "      <td>1.0</td>\n",
       "      <td>PD</td>\n",
       "      <td>0.0</td>\n",
       "      <td>21.0</td>\n",
       "      <td>21.0</td>\n",
       "      <td>21.0</td>\n",
       "    </tr>\n",
       "    <tr>\n",
       "      <th>5337</th>\n",
       "      <td>40784</td>\n",
       "      <td>5</td>\n",
       "      <td>NaN</td>\n",
       "      <td>NaN</td>\n",
       "      <td>NaN</td>\n",
       "      <td>NaN</td>\n",
       "      <td>NaN</td>\n",
       "      <td>NaN</td>\n",
       "      <td>NaN</td>\n",
       "      <td>NaN</td>\n",
       "      <td>...</td>\n",
       "      <td>2.0</td>\n",
       "      <td>NaN</td>\n",
       "      <td>NaN</td>\n",
       "      <td>7.0</td>\n",
       "      <td>0.0</td>\n",
       "      <td>REGPD</td>\n",
       "      <td>0.0</td>\n",
       "      <td>10.0</td>\n",
       "      <td>10.0</td>\n",
       "      <td>10.0</td>\n",
       "    </tr>\n",
       "    <tr>\n",
       "      <th>6020</th>\n",
       "      <td>40731</td>\n",
       "      <td>6</td>\n",
       "      <td>NaN</td>\n",
       "      <td>NaN</td>\n",
       "      <td>NaN</td>\n",
       "      <td>NaN</td>\n",
       "      <td>NaN</td>\n",
       "      <td>NaN</td>\n",
       "      <td>NaN</td>\n",
       "      <td>NaN</td>\n",
       "      <td>...</td>\n",
       "      <td>3.0</td>\n",
       "      <td>0.3333</td>\n",
       "      <td>2.0</td>\n",
       "      <td>7.0</td>\n",
       "      <td>0.0</td>\n",
       "      <td>GENPD</td>\n",
       "      <td>0.0</td>\n",
       "      <td>21.0</td>\n",
       "      <td>21.0</td>\n",
       "      <td>21.0</td>\n",
       "    </tr>\n",
       "    <tr>\n",
       "      <th>7184</th>\n",
       "      <td>40515</td>\n",
       "      <td>NaN</td>\n",
       "      <td>NaN</td>\n",
       "      <td>NaN</td>\n",
       "      <td>NaN</td>\n",
       "      <td>NaN</td>\n",
       "      <td>NaN</td>\n",
       "      <td>NaN</td>\n",
       "      <td>NaN</td>\n",
       "      <td>NaN</td>\n",
       "      <td>...</td>\n",
       "      <td>NaN</td>\n",
       "      <td>NaN</td>\n",
       "      <td>NaN</td>\n",
       "      <td>NaN</td>\n",
       "      <td>NaN</td>\n",
       "      <td>REGPD</td>\n",
       "      <td>0.0</td>\n",
       "      <td>0.0</td>\n",
       "      <td>0.0</td>\n",
       "      <td>0.0</td>\n",
       "    </tr>\n",
       "  </tbody>\n",
       "</table>\n",
       "<p>10 rows × 63 columns</p>\n",
       "</div>"
      ],
      "text/plain": [
       "      PATNO EVENT_ID  NUPSOURC  NP2SPCH  NP2SALV  NP2SWAL  NP2EAT  NP2DRES  \\\n",
       "590    3415        3       NaN      NaN      NaN      NaN     NaN      NaN   \n",
       "1219   3305       10       NaN      NaN      NaN      NaN     NaN      NaN   \n",
       "3907   4074       13       NaN      NaN      NaN      NaN     NaN      NaN   \n",
       "3997   3026        1       NaN      NaN      NaN      NaN     NaN      NaN   \n",
       "4066   4073       13       NaN      NaN      NaN      NaN     NaN      NaN   \n",
       "4076   4076       13       NaN      NaN      NaN      NaN     NaN      NaN   \n",
       "4086   4077       13       NaN      NaN      NaN      NaN     NaN      NaN   \n",
       "5337  40784        5       NaN      NaN      NaN      NaN     NaN      NaN   \n",
       "6020  40731        6       NaN      NaN      NaN      NaN     NaN      NaN   \n",
       "7184  40515      NaN       NaN      NaN      NaN      NaN     NaN      NaN   \n",
       "\n",
       "      NP2HYGN  NP2HWRT  ...  NHY  ANNUAL_TIME_BTW_DOSE_NUPDRS  ON_OFF_DOSE  \\\n",
       "590       NaN      NaN  ...  2.0                          NaN          NaN   \n",
       "1219      NaN      NaN  ...  2.0                          NaN          NaN   \n",
       "3907      NaN      NaN  ...  2.0                       5.9167          2.0   \n",
       "3997      NaN      NaN  ...  2.0                          NaN          NaN   \n",
       "4066      NaN      NaN  ...  2.0                       0.7500          2.0   \n",
       "4076      NaN      NaN  ...  2.0                       0.6167          2.0   \n",
       "4086      NaN      NaN  ...  2.0                      16.4667          1.0   \n",
       "5337      NaN      NaN  ...  2.0                          NaN          NaN   \n",
       "6020      NaN      NaN  ...  3.0                       0.3333          2.0   \n",
       "7184      NaN      NaN  ...  NaN                          NaN          NaN   \n",
       "\n",
       "      PD_MED_USE  IS_TREATED  ENROLL_CAT UPDRS_II UPDRS_III  UPDRS_II_AND_III  \\\n",
       "590          3.0         0.0          PD      0.0      27.0              27.0   \n",
       "1219         3.0         1.0          PD      0.0      38.0              38.0   \n",
       "3907         1.0         1.0          PD      0.0      32.0              32.0   \n",
       "3997         0.0         0.0          PD      0.0      18.0              18.0   \n",
       "4066         1.0         1.0          PD      0.0      20.0              20.0   \n",
       "4076         1.0         1.0          PD      0.0      28.0              28.0   \n",
       "4086         1.0         1.0          PD      0.0      21.0              21.0   \n",
       "5337         7.0         0.0       REGPD      0.0      10.0              10.0   \n",
       "6020         7.0         0.0       GENPD      0.0      21.0              21.0   \n",
       "7184         NaN         NaN       REGPD      0.0       0.0               0.0   \n",
       "\n",
       "      TOTAL  \n",
       "590    27.0  \n",
       "1219   38.0  \n",
       "3907   32.0  \n",
       "3997   18.0  \n",
       "4066   20.0  \n",
       "4076   28.0  \n",
       "4086   21.0  \n",
       "5337   10.0  \n",
       "6020   21.0  \n",
       "7184    0.0  \n",
       "\n",
       "[10 rows x 63 columns]"
      ]
     },
     "execution_count": 13,
     "metadata": {},
     "output_type": "execute_result"
    }
   ],
   "source": [
    "merged.loc[merged['NP2SPCH'].isna(), :]"
   ]
  },
  {
   "cell_type": "code",
   "execution_count": 73,
   "metadata": {},
   "outputs": [
    {
     "data": {
      "text/plain": [
       "Index(['NP3SPCH', 'NP3FACXP', 'NP3RIGN', 'NP3RIGRU', 'NP3RIGLU', 'NP3RIGLL',\n",
       "       'NP3FTAPR', 'NP3FTAPL', 'NP3HMOVR', 'NP3HMOVL', 'NP3PRSPR', 'NP3PRSPL',\n",
       "       'NP3TTAPR', 'NP3TTAPL', 'NP3LGAGR', 'NP3LGAGL', 'NP3RISNG', 'NP3GAIT',\n",
       "       'NP3FRZGT', 'NP3PSTBL', 'NP3POSTR', 'NP3BRADY', 'NP3PTRMR', 'NP3PTRML',\n",
       "       'NP3KTRMR', 'NP3KTRML', 'NP3RTARU', 'NP3RTALU', 'NP3RTARL', 'NP3RTALL',\n",
       "       'NP3RTALJ', 'NP3RTCON'],\n",
       "      dtype='object')"
      ]
     },
     "execution_count": 73,
     "metadata": {},
     "output_type": "execute_result"
    }
   ],
   "source": [
    "merged.filter(regex=\"NP3.*\").columns"
   ]
  },
  {
   "cell_type": "markdown",
   "metadata": {},
   "source": [
    "#### -1 comes for only 'ST' event in entire dataframe:"
   ]
  },
  {
   "cell_type": "code",
   "execution_count": 91,
   "metadata": {},
   "outputs": [
    {
     "data": {
      "text/plain": [
       "array([False,  True, False, False, False, False, False, False, False,\n",
       "       False, False, False, False, False, False, False, False, False,\n",
       "       False, False, False, False, False, False, False, False, False,\n",
       "       False, False, False, False, False, False, False, False, False,\n",
       "       False, False, False, False, False, False, False, False, False,\n",
       "       False, False, False, False, False, False, False, False, False,\n",
       "       False, False, False, False, False, False, False, False, False])"
      ]
     },
     "execution_count": 91,
     "metadata": {},
     "output_type": "execute_result"
    }
   ],
   "source": [
    "merged.isin(['-1']).any().values"
   ]
  },
  {
   "cell_type": "code",
   "execution_count": 121,
   "metadata": {},
   "outputs": [],
   "source": [
    "test = pd.DataFrame({'month': [1, 4, 7, 10],'year': [2012, 2014, 2013, 2014],'sale': [55, 40, 84, 31]})"
   ]
  },
  {
   "cell_type": "code",
   "execution_count": 122,
   "metadata": {},
   "outputs": [],
   "source": [
    "multi_index = pd.MultiIndex.from_product([test['year'].unique(), range(1,13)], names=['year', 'month'])\n",
    "test = test.set_index(['year','month']).reindex(multi_index).reset_index()"
   ]
  },
  {
   "cell_type": "markdown",
   "metadata": {},
   "source": [
    "No of patients with atleast 10 events:"
   ]
  },
  {
   "cell_type": "code",
   "execution_count": 119,
   "metadata": {},
   "outputs": [
    {
     "data": {
      "text/plain": [
       "397"
      ]
     },
     "execution_count": 119,
     "metadata": {},
     "output_type": "execute_result"
    }
   ],
   "source": [
    "sum(merged.groupby(['PATNO']).count()['EVENT_ID'] >= 10)"
   ]
  },
  {
   "cell_type": "markdown",
   "metadata": {},
   "source": [
    "### Plot the UPDRS 3/Ambulatory scores on merged data for some random patients:"
   ]
  },
  {
   "cell_type": "code",
   "execution_count": 1,
   "metadata": {},
   "outputs": [],
   "source": [
    "import pandas as pd\n",
    "import matplotlib.pyplot as plt\n",
    "import numpy as np"
   ]
  },
  {
   "cell_type": "code",
   "execution_count": 27,
   "metadata": {},
   "outputs": [],
   "source": [
    "def plot_updrs3(data, patient_ids):\n",
    "    updrs3_scores = np.empty((17,))\n",
    "    updrs3_scores[:] = float('NaN')\n",
    "    for pat_id in patient_ids:\n",
    "        pat_data = data.loc[data['PATNO'] == pat_id]\n",
    "        pat_data = pat_data.loc[data['IS_TREATED_0.0'] == 1]\n",
    "        updrs3_scores[pat_data['EVENT_ID'].values] = pat_data['TOTAL_UPDRS3']\n",
    "        #up3_scores = pat_data['TOTAL_UPDRS3'].replace(-1, float('NaN'))\n",
    "        #print(pat_data['EVENT_ID'].values)\n",
    "        plt.plot(range(0,17), updrs3_scores)\n",
    "    plt.xlabel('Events')\n",
    "    plt.ylabel('Total UPDRS3 score')\n",
    "    plt.show()"
   ]
  },
  {
   "cell_type": "markdown",
   "metadata": {},
   "source": [
    "#### Create plots for ambul scores:"
   ]
  },
  {
   "cell_type": "code",
   "execution_count": 28,
   "metadata": {},
   "outputs": [],
   "source": [
    "def plot_ambu_scores(data, patient_ids):\n",
    "    ambul_scores = np.empty((17,))\n",
    "    ambul_scores[:] = float('NaN')\n",
    "    for pat_id in patient_ids:\n",
    "        pat_data = data.loc[data['PATNO'] == pat_id]\n",
    "        pat_data = pat_data.loc[data['IS_TREATED_0.0'] == 1]\n",
    "        ambul_scores[pat_data['EVENT_ID'].values] = pat_data['AMBUL_SCORE']\n",
    "        #up3_scores = pat_data['TOTAL_UPDRS3'].replace(-1, float('NaN'))\n",
    "        #print(pat_data['EVENT_ID'].values)\n",
    "        plt.plot(range(0,17), ambul_scores)\n",
    "    plt.xlabel('Events')\n",
    "    plt.ylabel('Total Ambulatory score')\n",
    "    plt.show()"
   ]
  },
  {
   "cell_type": "code",
   "execution_count": 30,
   "metadata": {},
   "outputs": [
    {
     "data": {
      "image/png": "[encoded data removed]",
      "text/plain": [
       "<Figure size 432x288 with 1 Axes>"
      ]
     },
     "metadata": {
      "needs_background": "light"
     },
     "output_type": "display_data"
    },
    {
     "data": {
      "image/png": "[encoded data removed]",
      "text/plain": [
       "<Figure size 432x288 with 1 Axes>"
      ]
     },
     "metadata": {
      "needs_background": "light"
     },
     "output_type": "display_data"
    }
   ],
   "source": [
    "compl_data = pd.read_csv('./preprocessed/final_merged_na_removed.csv')\n",
    "#compl_data.loc[:, 'TOTAL_UPDRS3'] = compl_data.filter(regex=\"NP3.*\").sum(axis=1)\n",
    "\n",
    "all_pat_ids = compl_data['PATNO'].unique()\n",
    "rand_pat_id = np.random.randint(0, len(all_pat_ids), size=10)\n",
    "pat_ids = all_pat_ids[rand_pat_id]\n",
    "plot_updrs3(compl_data, pat_ids)\n",
    "plot_ambu_scores(compl_data, pat_ids)"
   ]
  },
  {
   "cell_type": "markdown",
   "metadata": {},
   "source": []
  },
  {
   "cell_type": "code",
   "execution_count": null,
   "metadata": {},
   "outputs": [],
   "source": []
  }
 ],
 "metadata": {
  "kernelspec": {
   "display_name": "Python 3",
   "language": "python",
   "name": "python3"
  },
  "language_info": {
   "codemirror_mode": {
    "name": "ipython",
    "version": 3
   },
   "file_extension": ".py",
   "mimetype": "text/x-python",
   "name": "python",
   "nbconvert_exporter": "python",
   "pygments_lexer": "ipython3",
   "version": "3.7.3"
  }
 },
 "nbformat": 4,
 "nbformat_minor": 2
}
